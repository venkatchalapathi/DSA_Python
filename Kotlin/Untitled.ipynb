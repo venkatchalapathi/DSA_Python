{
 "cells": [
  {
   "cell_type": "code",
   "execution_count": 2,
   "id": "cf904a31-632c-49a7-82ba-629c8130ff53",
   "metadata": {},
   "outputs": [
    {
     "data": {
      "text/plain": [
       "Hello, Venkat"
      ]
     },
     "execution_count": 2,
     "metadata": {},
     "output_type": "execute_result"
    }
   ],
   "source": [
    "val name = \"Venkat\"  // immutable\n",
    "var age = 25     \n",
    "\n",
    "fun greet(name: String): String {\n",
    "    return \"Hello, $name\"\n",
    "}\n",
    "greet(name)"
   ]
  },
  {
   "cell_type": "code",
   "execution_count": 3,
   "id": "e16d7261-dab1-48f5-a2cb-ebc85afd245a",
   "metadata": {},
   "outputs": [
    {
     "name": "stdout",
     "output_type": "stream",
     "text": [
      "big"
     ]
    }
   ],
   "source": [
    "var x = 10\n",
    "if(x>5) print(\"big\") else print(\"small\")"
   ]
  },
  {
   "cell_type": "code",
   "execution_count": 5,
   "id": "f0c47037-7909-4df9-b8b4-b743fc634ec1",
   "metadata": {},
   "outputs": [
    {
     "name": "stdout",
     "output_type": "stream",
     "text": [
      "0\n",
      "1\n",
      "2\n",
      "3\n",
      "4\n",
      "5\n"
     ]
    }
   ],
   "source": [
    "for(i in 0..5){\n",
    "    println(i)\n",
    "}"
   ]
  },
  {
   "cell_type": "code",
   "execution_count": 6,
   "id": "faf8c0e2-2d2e-4fc8-97f6-4280f147d93e",
   "metadata": {},
   "outputs": [
    {
     "name": "stdout",
     "output_type": "stream",
     "text": [
      "0\n",
      "1\n",
      "2\n",
      "3\n",
      "4\n"
     ]
    }
   ],
   "source": [
    "var i = 0\n",
    "while(i<5){\n",
    "    println(i)\n",
    "    i++\n",
    "}"
   ]
  },
  {
   "cell_type": "code",
   "execution_count": null,
   "id": "2a5651f5-c384-4500-be70-33707396710c",
   "metadata": {},
   "outputs": [],
   "source": []
  }
 ],
 "metadata": {
  "kernelspec": {
   "display_name": "Kotlin",
   "language": "kotlin",
   "name": "kotlin"
  },
  "language_info": {
   "codemirror_mode": "text/x-kotlin",
   "file_extension": ".kt",
   "mimetype": "text/x-kotlin",
   "name": "kotlin",
   "nbconvert_exporter": "",
   "pygments_lexer": "kotlin",
   "version": "1.9.23"
  }
 },
 "nbformat": 4,
 "nbformat_minor": 5
}
