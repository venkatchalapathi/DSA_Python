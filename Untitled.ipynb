{
 "cells": [
  {
   "cell_type": "markdown",
   "id": "a468e26b-36ef-43ae-83e5-606f94195fd0",
   "metadata": {},
   "source": [
    "### Learn DSA"
   ]
  },
  {
   "cell_type": "code",
   "execution_count": 2,
   "id": "77e77df7-1def-4509-8e61-4bdb4aa114e8",
   "metadata": {},
   "outputs": [
    {
     "name": "stdout",
     "output_type": "stream",
     "text": [
      "[34, 30]\n"
     ]
    }
   ],
   "source": [
    "# arr = [20,3,30,1,34]\n",
    "# o/p = 34 , 30\n",
    "\n",
    "def findSecondLargeNumber(arr):\n",
    "    largest = second_largest = -1\n",
    "    for i in arr:\n",
    "        if(i>largest):\n",
    "            second_largest = largest\n",
    "            largest = i\n",
    "        elif i<largest and i>second_largest:\n",
    "            second_largest = i\n",
    "    return [largest,second_largest]\n",
    "v = findSecondLargeNumber([20,3,300,1,34])\n",
    "print(v)\n"
   ]
  },
  {
   "cell_type": "code",
   "execution_count": 4,
   "id": "15685f20-18f8-4f54-ae3b-d8faec82f6a9",
   "metadata": {},
   "outputs": [
    {
     "name": "stdout",
     "output_type": "stream",
     "text": [
      "[0, 1]\n"
     ]
    }
   ],
   "source": [
    "def twosum(target,arr):\n",
    "    m = {}\n",
    "    for i,n in enumerate(arr):\n",
    "        c = target - n\n",
    "        if c in m:\n",
    "            return [m[c],i]\n",
    "        m[n] = i\n",
    "    return []\n",
    "print(twosum(9,[2,7,3,6,78]))\n",
    "        "
   ]
  },
  {
   "cell_type": "code",
   "execution_count": 6,
   "id": "db7726a9-c59f-4f4c-97d5-211ec9aa32ad",
   "metadata": {},
   "outputs": [
    {
     "name": "stdout",
     "output_type": "stream",
     "text": [
      "[0, 1]\n"
     ]
    }
   ],
   "source": [
    "# First problem\n",
    "def twoSum(nums:List<int>,tar:int) -> List<int> :\n",
    "    for i in range(0,len(nums)-1):\n",
    "        for j in range(i+1,len(nums)):\n",
    "            if(nums[i] + nums[j] == tar):\n",
    "                return [i,j]\n",
    "\n",
    "print(twoSum([2,7,11,13],9)"
   ]
  },
  {
   "cell_type": "code",
   "execution_count": 10,
   "id": "2e10c2e3-423d-4f7a-80ba-229e39d1c1ef",
   "metadata": {},
   "outputs": [
    {
     "name": "stdout",
     "output_type": "stream",
     "text": [
      "True\n"
     ]
    }
   ],
   "source": [
    "#Second Problem\n",
    "def isPalindrome(s):\n",
    "    if(s == s[::-1]):\n",
    "        return True\n",
    "    else:\n",
    "        return False\n",
    "print(isPalindrome(\"amma\"))"
   ]
  },
  {
   "cell_type": "code",
   "execution_count": 19,
   "id": "48288ecf-a028-4a9b-a1ed-b172c07facb5",
   "metadata": {},
   "outputs": [
    {
     "name": "stdout",
     "output_type": "stream",
     "text": [
      "['(', ')', '[', ']']\n"
     ]
    }
   ],
   "source": [
    "o1 = '('\n",
    "c1 = ')'\n",
    "\n",
    "o2 = '{'\n",
    "c2 = '}'\n",
    "\n",
    "o3 = '['\n",
    "c3 = ']'\n",
    "\n",
    "i = '()[]'\n",
    "\n",
    "ls = []\n",
    "for s in i:\n",
    "    ls.append(s)\n",
    "\n",
    "\n",
    "print(ls)\n",
    "\n",
    "for i in ls:\n",
    "    if(i == o1 or i == o2 or i == o3):\n",
    "        "
   ]
  },
  {
   "cell_type": "code",
   "execution_count": null,
   "id": "b07b07b8-09da-423f-8f4a-7fb9ce58fd1b",
   "metadata": {},
   "outputs": [],
   "source": []
  }
 ],
 "metadata": {
  "kernelspec": {
   "display_name": "Python 3 (ipykernel)",
   "language": "python",
   "name": "python3"
  },
  "language_info": {
   "codemirror_mode": {
    "name": "ipython",
    "version": 3
   },
   "file_extension": ".py",
   "mimetype": "text/x-python",
   "name": "python",
   "nbconvert_exporter": "python",
   "pygments_lexer": "ipython3",
   "version": "3.13.3"
  }
 },
 "nbformat": 4,
 "nbformat_minor": 5
}
