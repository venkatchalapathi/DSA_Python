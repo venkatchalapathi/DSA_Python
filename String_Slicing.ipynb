{
 "cells": [
  {
   "cell_type": "markdown",
   "id": "c855e654-6a0a-4674-a2bd-d56973af4cd8",
   "metadata": {},
   "source": [
    "# Strings - String slicing"
   ]
  },
  {
   "cell_type": "code",
   "execution_count": 1,
   "id": "2bd3cc1d-c037-455a-9f6f-58536170509f",
   "metadata": {},
   "outputs": [
    {
     "name": "stdout",
     "output_type": "stream",
     "text": [
      "Hai\n"
     ]
    }
   ],
   "source": [
    "# initialising the string value\n",
    "s = 'Hai' # or s = \"hai\"\n",
    "print(s)"
   ]
  },
  {
   "cell_type": "code",
   "execution_count": 2,
   "id": "8f68317d-1d7d-4deb-b0ae-9e8edf84c476",
   "metadata": {},
   "outputs": [
    {
     "name": "stdout",
     "output_type": "stream",
     "text": [
      "hai this os \n",
      "multi line string...\n",
      "this is third line\n"
     ]
    }
   ],
   "source": [
    "# Multi line string...\n",
    "s1 = '''hai this os \n",
    "multi line string...\n",
    "this is third line'''\n",
    "print(s1)\n"
   ]
  },
  {
   "cell_type": "code",
   "execution_count": 3,
   "id": "902003f5-5062-451c-b11c-c916a9041373",
   "metadata": {},
   "outputs": [
    {
     "data": {
      "text/plain": [
       "'P'"
      ]
     },
     "execution_count": 3,
     "metadata": {},
     "output_type": "execute_result"
    }
   ],
   "source": [
    "# String indexing..\n",
    "s = \"Python\"\n",
    "s[0]"
   ]
  },
  {
   "cell_type": "code",
   "execution_count": 5,
   "id": "0bded04e-537a-44ea-9ac5-1cfd7eb5cc6f",
   "metadata": {},
   "outputs": [
    {
     "data": {
      "text/plain": [
       "'n'"
      ]
     },
     "execution_count": 5,
     "metadata": {},
     "output_type": "execute_result"
    }
   ],
   "source": [
    "#Last char of a string.\n",
    "s[-1]"
   ]
  },
  {
   "cell_type": "code",
   "execution_count": 11,
   "id": "826d876a-d57b-4251-b76a-47ef9c025a9e",
   "metadata": {},
   "outputs": [
    {
     "data": {
      "text/plain": [
       "'Pyt'"
      ]
     },
     "execution_count": 11,
     "metadata": {},
     "output_type": "execute_result"
    }
   ],
   "source": [
    "#String Slicing...\n",
    "#Extract parts of strings using s[start:end:step]. step excluded here\n",
    "s[0:3]"
   ]
  },
  {
   "cell_type": "code",
   "execution_count": 12,
   "id": "45e03b74-fc53-44d2-8e4c-809b0e58ee6a",
   "metadata": {},
   "outputs": [
    {
     "data": {
      "text/plain": [
       "'Pyt'"
      ]
     },
     "execution_count": 12,
     "metadata": {},
     "output_type": "execute_result"
    }
   ],
   "source": [
    "s[0:3:1]"
   ]
  },
  {
   "cell_type": "code",
   "execution_count": 13,
   "id": "8ddb56fe-dd28-4afb-b9dd-9275febe07db",
   "metadata": {},
   "outputs": [
    {
     "data": {
      "text/plain": [
       "'Ph'"
      ]
     },
     "execution_count": 13,
     "metadata": {},
     "output_type": "execute_result"
    }
   ],
   "source": [
    "s[0:4:3] # two steps counter"
   ]
  },
  {
   "cell_type": "code",
   "execution_count": 14,
   "id": "6034edda-9ba8-4946-8292-15aa4b5d5ad1",
   "metadata": {},
   "outputs": [
    {
     "data": {
      "text/plain": [
       "'PYTHON'"
      ]
     },
     "execution_count": 14,
     "metadata": {},
     "output_type": "execute_result"
    }
   ],
   "source": [
    "# Common String methods..\n",
    "s.upper()"
   ]
  },
  {
   "cell_type": "code",
   "execution_count": 15,
   "id": "362e3791-d2d8-4c2c-bdc1-d9d9568983c1",
   "metadata": {},
   "outputs": [
    {
     "data": {
      "text/plain": [
       "'python'"
      ]
     },
     "execution_count": 15,
     "metadata": {},
     "output_type": "execute_result"
    }
   ],
   "source": [
    "s.lower()"
   ]
  },
  {
   "cell_type": "code",
   "execution_count": 16,
   "id": "610392c9-2d45-472f-b94e-06d2e5d71c1d",
   "metadata": {},
   "outputs": [
    {
     "data": {
      "text/plain": [
       "'Python'"
      ]
     },
     "execution_count": 16,
     "metadata": {},
     "output_type": "execute_result"
    }
   ],
   "source": [
    "s.title()"
   ]
  },
  {
   "cell_type": "code",
   "execution_count": 21,
   "id": "88509752-3ed1-4df3-8b61-e05ee288bfb1",
   "metadata": {},
   "outputs": [],
   "source": [
    "s = \" hello python \""
   ]
  },
  {
   "cell_type": "code",
   "execution_count": 22,
   "id": "5606a188-8862-4447-b7b6-418ea7508d10",
   "metadata": {},
   "outputs": [
    {
     "data": {
      "text/plain": [
       "'hello python'"
      ]
     },
     "execution_count": 22,
     "metadata": {},
     "output_type": "execute_result"
    }
   ],
   "source": [
    "s.strip()"
   ]
  },
  {
   "cell_type": "code",
   "execution_count": 23,
   "id": "3330b312-3a8e-47fb-8f57-34ffa500540d",
   "metadata": {},
   "outputs": [
    {
     "data": {
      "text/plain": [
       "'hello python '"
      ]
     },
     "execution_count": 23,
     "metadata": {},
     "output_type": "execute_result"
    }
   ],
   "source": [
    "s.lstrip()"
   ]
  },
  {
   "cell_type": "code",
   "execution_count": 24,
   "id": "500a9e19-11c0-4e0d-bc03-d020021f9e18",
   "metadata": {},
   "outputs": [
    {
     "data": {
      "text/plain": [
       "' hello python'"
      ]
     },
     "execution_count": 24,
     "metadata": {},
     "output_type": "execute_result"
    }
   ],
   "source": [
    "s.rstrip()"
   ]
  },
  {
   "cell_type": "code",
   "execution_count": 28,
   "id": "dfd92b9c-44e5-4395-a9aa-918dc511701b",
   "metadata": {},
   "outputs": [
    {
     "data": {
      "text/plain": [
       "7"
      ]
     },
     "execution_count": 28,
     "metadata": {},
     "output_type": "execute_result"
    }
   ],
   "source": [
    "s.find('py')"
   ]
  },
  {
   "cell_type": "code",
   "execution_count": 31,
   "id": "62df02f8-08d2-4f67-a096-39df6fc245bf",
   "metadata": {},
   "outputs": [
    {
     "data": {
      "text/plain": [
       "7"
      ]
     },
     "execution_count": 31,
     "metadata": {},
     "output_type": "execute_result"
    }
   ],
   "source": [
    "s.index('py')"
   ]
  },
  {
   "cell_type": "code",
   "execution_count": 32,
   "id": "952fa206-be23-4ea5-8fac-6470e70d5c24",
   "metadata": {},
   "outputs": [
    {
     "data": {
      "text/plain": [
       "' hai python '"
      ]
     },
     "execution_count": 32,
     "metadata": {},
     "output_type": "execute_result"
    }
   ],
   "source": [
    "s.replace(\"hello\",\"hai\")"
   ]
  },
  {
   "cell_type": "code",
   "execution_count": 33,
   "id": "5290b6ba-9fda-43d4-bc4a-4a2b6ebcd3fe",
   "metadata": {},
   "outputs": [
    {
     "data": {
      "text/plain": [
       "2"
      ]
     },
     "execution_count": 33,
     "metadata": {},
     "output_type": "execute_result"
    }
   ],
   "source": [
    "s.count('l')"
   ]
  },
  {
   "cell_type": "code",
   "execution_count": 36,
   "id": "d0362ae0-8f9c-4bcf-b64f-aaaaf0fdf125",
   "metadata": {},
   "outputs": [
    {
     "data": {
      "text/plain": [
       "True"
      ]
     },
     "execution_count": 36,
     "metadata": {},
     "output_type": "execute_result"
    }
   ],
   "source": [
    "s.startswith(' h')"
   ]
  },
  {
   "cell_type": "code",
   "execution_count": 40,
   "id": "ee967ea1-1f85-440d-b355-5054af0f0853",
   "metadata": {},
   "outputs": [
    {
     "data": {
      "text/plain": [
       "False"
      ]
     },
     "execution_count": 40,
     "metadata": {},
     "output_type": "execute_result"
    }
   ],
   "source": [
    "s.endswith('n')"
   ]
  },
  {
   "cell_type": "code",
   "execution_count": 41,
   "id": "ce56ebf6-e6e3-41d6-908f-c7e014976537",
   "metadata": {},
   "outputs": [
    {
     "data": {
      "text/plain": [
       "['hello', 'python']"
      ]
     },
     "execution_count": 41,
     "metadata": {},
     "output_type": "execute_result"
    }
   ],
   "source": [
    "s.split()"
   ]
  },
  {
   "cell_type": "code",
   "execution_count": null,
   "id": "4a8d703c-5362-4507-a0bd-385ef73bb5db",
   "metadata": {},
   "outputs": [],
   "source": []
  }
 ],
 "metadata": {
  "kernelspec": {
   "display_name": "Python 3 (ipykernel)",
   "language": "python",
   "name": "python3"
  },
  "language_info": {
   "codemirror_mode": {
    "name": "ipython",
    "version": 3
   },
   "file_extension": ".py",
   "mimetype": "text/x-python",
   "name": "python",
   "nbconvert_exporter": "python",
   "pygments_lexer": "ipython3",
   "version": "3.13.3"
  }
 },
 "nbformat": 4,
 "nbformat_minor": 5
}
