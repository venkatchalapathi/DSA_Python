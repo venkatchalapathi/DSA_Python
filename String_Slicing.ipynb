{
 "cells": [
  {
   "cell_type": "markdown",
   "id": "c855e654-6a0a-4674-a2bd-d56973af4cd8",
   "metadata": {},
   "source": [
    "# Strings - String slicing"
   ]
  },
  {
   "cell_type": "code",
   "execution_count": 1,
   "id": "2bd3cc1d-c037-455a-9f6f-58536170509f",
   "metadata": {},
   "outputs": [
    {
     "name": "stdout",
     "output_type": "stream",
     "text": [
      "Hai\n"
     ]
    }
   ],
   "source": [
    "# initialising the string value\n",
    "s = 'Hai' # or s = \"hai\"\n",
    "print(s)"
   ]
  },
  {
   "cell_type": "code",
   "execution_count": 2,
   "id": "8f68317d-1d7d-4deb-b0ae-9e8edf84c476",
   "metadata": {},
   "outputs": [
    {
     "name": "stdout",
     "output_type": "stream",
     "text": [
      "hai this os \n",
      "multi line string...\n",
      "this is third line\n"
     ]
    }
   ],
   "source": [
    "# Multi line string...\n",
    "s1 = '''hai this os \n",
    "multi line string...\n",
    "this is third line'''\n",
    "print(s1)\n"
   ]
  },
  {
   "cell_type": "code",
   "execution_count": 3,
   "id": "902003f5-5062-451c-b11c-c916a9041373",
   "metadata": {},
   "outputs": [
    {
     "data": {
      "text/plain": [
       "'P'"
      ]
     },
     "execution_count": 3,
     "metadata": {},
     "output_type": "execute_result"
    }
   ],
   "source": [
    "# String indexing..\n",
    "s = \"Python\"\n",
    "s[0]"
   ]
  },
  {
   "cell_type": "code",
   "execution_count": 5,
   "id": "0bded04e-537a-44ea-9ac5-1cfd7eb5cc6f",
   "metadata": {},
   "outputs": [
    {
     "data": {
      "text/plain": [
       "'n'"
      ]
     },
     "execution_count": 5,
     "metadata": {},
     "output_type": "execute_result"
    }
   ],
   "source": [
    "#Last char of a string.\n",
    "s[-1]"
   ]
  },
  {
   "cell_type": "code",
   "execution_count": 11,
   "id": "826d876a-d57b-4251-b76a-47ef9c025a9e",
   "metadata": {},
   "outputs": [
    {
     "data": {
      "text/plain": [
       "'Pyt'"
      ]
     },
     "execution_count": 11,
     "metadata": {},
     "output_type": "execute_result"
    }
   ],
   "source": [
    "#String Slicing...\n",
    "#Extract parts of strings using s[start:end:step]. step excluded here\n",
    "s[0:3]"
   ]
  },
  {
   "cell_type": "code",
   "execution_count": 12,
   "id": "45e03b74-fc53-44d2-8e4c-809b0e58ee6a",
   "metadata": {},
   "outputs": [
    {
     "data": {
      "text/plain": [
       "'Pyt'"
      ]
     },
     "execution_count": 12,
     "metadata": {},
     "output_type": "execute_result"
    }
   ],
   "source": [
    "s[0:3:1]"
   ]
  },
  {
   "cell_type": "code",
   "execution_count": 13,
   "id": "8ddb56fe-dd28-4afb-b9dd-9275febe07db",
   "metadata": {},
   "outputs": [
    {
     "data": {
      "text/plain": [
       "'Ph'"
      ]
     },
     "execution_count": 13,
     "metadata": {},
     "output_type": "execute_result"
    }
   ],
   "source": [
    "s[0:4:3] # two steps counter"
   ]
  },
  {
   "cell_type": "code",
   "execution_count": 14,
   "id": "6034edda-9ba8-4946-8292-15aa4b5d5ad1",
   "metadata": {},
   "outputs": [
    {
     "data": {
      "text/plain": [
       "'PYTHON'"
      ]
     },
     "execution_count": 14,
     "metadata": {},
     "output_type": "execute_result"
    }
   ],
   "source": [
    "# Common String methods..\n",
    "s.upper()"
   ]
  },
  {
   "cell_type": "code",
   "execution_count": 15,
   "id": "362e3791-d2d8-4c2c-bdc1-d9d9568983c1",
   "metadata": {},
   "outputs": [
    {
     "data": {
      "text/plain": [
       "'python'"
      ]
     },
     "execution_count": 15,
     "metadata": {},
     "output_type": "execute_result"
    }
   ],
   "source": [
    "s.lower()"
   ]
  },
  {
   "cell_type": "code",
   "execution_count": 16,
   "id": "610392c9-2d45-472f-b94e-06d2e5d71c1d",
   "metadata": {},
   "outputs": [
    {
     "data": {
      "text/plain": [
       "'Python'"
      ]
     },
     "execution_count": 16,
     "metadata": {},
     "output_type": "execute_result"
    }
   ],
   "source": [
    "s.title()"
   ]
  },
  {
   "cell_type": "code",
   "execution_count": 21,
   "id": "88509752-3ed1-4df3-8b61-e05ee288bfb1",
   "metadata": {},
   "outputs": [],
   "source": [
    "s = \" hello python \""
   ]
  },
  {
   "cell_type": "code",
   "execution_count": 22,
   "id": "5606a188-8862-4447-b7b6-418ea7508d10",
   "metadata": {},
   "outputs": [
    {
     "data": {
      "text/plain": [
       "'hello python'"
      ]
     },
     "execution_count": 22,
     "metadata": {},
     "output_type": "execute_result"
    }
   ],
   "source": [
    "s.strip()"
   ]
  },
  {
   "cell_type": "code",
   "execution_count": 23,
   "id": "3330b312-3a8e-47fb-8f57-34ffa500540d",
   "metadata": {},
   "outputs": [
    {
     "data": {
      "text/plain": [
       "'hello python '"
      ]
     },
     "execution_count": 23,
     "metadata": {},
     "output_type": "execute_result"
    }
   ],
   "source": [
    "s.lstrip()"
   ]
  },
  {
   "cell_type": "code",
   "execution_count": 24,
   "id": "500a9e19-11c0-4e0d-bc03-d020021f9e18",
   "metadata": {},
   "outputs": [
    {
     "data": {
      "text/plain": [
       "' hello python'"
      ]
     },
     "execution_count": 24,
     "metadata": {},
     "output_type": "execute_result"
    }
   ],
   "source": [
    "s.rstrip()"
   ]
  },
  {
   "cell_type": "code",
   "execution_count": 28,
   "id": "dfd92b9c-44e5-4395-a9aa-918dc511701b",
   "metadata": {},
   "outputs": [
    {
     "data": {
      "text/plain": [
       "7"
      ]
     },
     "execution_count": 28,
     "metadata": {},
     "output_type": "execute_result"
    }
   ],
   "source": [
    "s.find('py')"
   ]
  },
  {
   "cell_type": "code",
   "execution_count": 31,
   "id": "62df02f8-08d2-4f67-a096-39df6fc245bf",
   "metadata": {},
   "outputs": [
    {
     "data": {
      "text/plain": [
       "7"
      ]
     },
     "execution_count": 31,
     "metadata": {},
     "output_type": "execute_result"
    }
   ],
   "source": [
    "s.index('py')"
   ]
  },
  {
   "cell_type": "code",
   "execution_count": 32,
   "id": "952fa206-be23-4ea5-8fac-6470e70d5c24",
   "metadata": {},
   "outputs": [
    {
     "data": {
      "text/plain": [
       "' hai python '"
      ]
     },
     "execution_count": 32,
     "metadata": {},
     "output_type": "execute_result"
    }
   ],
   "source": [
    "s.replace(\"hello\",\"hai\")"
   ]
  },
  {
   "cell_type": "code",
   "execution_count": 33,
   "id": "5290b6ba-9fda-43d4-bc4a-4a2b6ebcd3fe",
   "metadata": {},
   "outputs": [
    {
     "data": {
      "text/plain": [
       "2"
      ]
     },
     "execution_count": 33,
     "metadata": {},
     "output_type": "execute_result"
    }
   ],
   "source": [
    "s.count('l')"
   ]
  },
  {
   "cell_type": "code",
   "execution_count": 36,
   "id": "d0362ae0-8f9c-4bcf-b64f-aaaaf0fdf125",
   "metadata": {},
   "outputs": [
    {
     "data": {
      "text/plain": [
       "True"
      ]
     },
     "execution_count": 36,
     "metadata": {},
     "output_type": "execute_result"
    }
   ],
   "source": [
    "s.startswith(' h')"
   ]
  },
  {
   "cell_type": "code",
   "execution_count": 40,
   "id": "ee967ea1-1f85-440d-b355-5054af0f0853",
   "metadata": {},
   "outputs": [
    {
     "data": {
      "text/plain": [
       "False"
      ]
     },
     "execution_count": 40,
     "metadata": {},
     "output_type": "execute_result"
    }
   ],
   "source": [
    "s.endswith('n')"
   ]
  },
  {
   "cell_type": "code",
   "execution_count": 41,
   "id": "ce56ebf6-e6e3-41d6-908f-c7e014976537",
   "metadata": {},
   "outputs": [
    {
     "data": {
      "text/plain": [
       "['hello', 'python']"
      ]
     },
     "execution_count": 41,
     "metadata": {},
     "output_type": "execute_result"
    }
   ],
   "source": [
    "s.split()"
   ]
  },
  {
   "cell_type": "markdown",
   "id": "e6a9e4a1-757d-4d6d-94c1-743a3c725bc7",
   "metadata": {},
   "source": [
    "# String Formatting.."
   ]
  },
  {
   "cell_type": "code",
   "execution_count": 43,
   "id": "82d87c6d-cd5c-474b-ad6f-c4395e6ce314",
   "metadata": {},
   "outputs": [],
   "source": [
    "# String formatting using % old style\n",
    "v = \"Venkat\""
   ]
  },
  {
   "cell_type": "code",
   "execution_count": 44,
   "id": "b4e4c25a-6713-495e-8628-3037ce759c92",
   "metadata": {},
   "outputs": [
    {
     "data": {
      "text/plain": [
       "'Hello Venkat'"
      ]
     },
     "execution_count": 44,
     "metadata": {},
     "output_type": "execute_result"
    }
   ],
   "source": [
    "\"Hello %s\" % v"
   ]
  },
  {
   "cell_type": "code",
   "execution_count": 46,
   "id": "914549ed-5553-4c70-ab5f-e915560a3e33",
   "metadata": {},
   "outputs": [
    {
     "data": {
      "text/plain": [
       "'Hello, Venkat'"
      ]
     },
     "execution_count": 46,
     "metadata": {},
     "output_type": "execute_result"
    }
   ],
   "source": [
    "\"Hello, {}\".format(v)"
   ]
  },
  {
   "cell_type": "code",
   "execution_count": 47,
   "id": "391a2ceb-a9a2-4b97-9666-970eae8edb81",
   "metadata": {},
   "outputs": [
    {
     "data": {
      "text/plain": [
       "'Hello, Venkat you are 30 old'"
      ]
     },
     "execution_count": 47,
     "metadata": {},
     "output_type": "execute_result"
    }
   ],
   "source": [
    "\"Hello, {0} you are {1} old\".format(v,30)"
   ]
  },
  {
   "cell_type": "code",
   "execution_count": 48,
   "id": "acbede5f-6b4e-4669-8b9f-87b8fc0bc03a",
   "metadata": {},
   "outputs": [
    {
     "data": {
      "text/plain": [
       "'Hello ,Venkat'"
      ]
     },
     "execution_count": 48,
     "metadata": {},
     "output_type": "execute_result"
    }
   ],
   "source": [
    "f\"Hello ,{v}\""
   ]
  },
  {
   "cell_type": "code",
   "execution_count": 50,
   "id": "5e66e9a0-2970-4302-afa8-c15072515783",
   "metadata": {},
   "outputs": [
    {
     "name": "stdout",
     "output_type": "stream",
     "text": [
      "olleH\n"
     ]
    }
   ],
   "source": [
    "#🎯 Practice Challenges (Beginner → Intermediate)\n",
    "\n",
    "# Reverse a string.\n",
    "# Check if a string is palindrome.\n",
    "# Count vowels in a string.\n",
    "# Remove duplicate characters.\n",
    "# Find the most frequent character.\n",
    "# Implement your own split().\n",
    "\n",
    "def rev(s):\n",
    "    return s[::-1]\n",
    "print(rev(\"Hello\"))"
   ]
  },
  {
   "cell_type": "code",
   "execution_count": 52,
   "id": "310b15df-9e2a-406a-b0d9-daefc02830ef",
   "metadata": {},
   "outputs": [
    {
     "name": "stdout",
     "output_type": "stream",
     "text": [
      "False\n"
     ]
    }
   ],
   "source": [
    "# Check if a string is palindrome.\n",
    "def isPalindrome(s):\n",
    "    if(s == rev(s)):\n",
    "        return True\n",
    "    else:\n",
    "        return False\n",
    "print(isPalindrome(\"ammdfda\"))"
   ]
  },
  {
   "cell_type": "code",
   "execution_count": 77,
   "id": "9262f040-0fe5-4720-baea-9c4b6f744365",
   "metadata": {},
   "outputs": [
    {
     "name": "stdout",
     "output_type": "stream",
     "text": [
      "2\n"
     ]
    }
   ],
   "source": [
    "# Count vowels in a string.\n",
    "def countVowels(s):\n",
    "    v = {\"a\",\"e\",\"i\",\"o\",\"u\"}\n",
    "    count = 0\n",
    "    for i in s.lower():\n",
    "        if i in v:\n",
    "            count+=1\n",
    "    return count\n",
    "print(countVowels(\"hEllo\"))"
   ]
  },
  {
   "cell_type": "code",
   "execution_count": 86,
   "id": "011484a1-d514-451f-9c38-2c888fae96dd",
   "metadata": {},
   "outputs": [
    {
     "name": "stdout",
     "output_type": "stream",
     "text": [
      "hel0\n"
     ]
    }
   ],
   "source": [
    "# Remove duplicate characters.\n",
    "def removeDup(s):\n",
    "    v = set()\n",
    "    result = ''\n",
    "    for char in s:\n",
    "        if char not in v:\n",
    "            v.add(char)\n",
    "            result += char\n",
    "    return result\n",
    "\n",
    "print(removeDup(\"heell00\"))"
   ]
  },
  {
   "cell_type": "code",
   "execution_count": 90,
   "id": "c907b7b1-1fe0-4376-b86f-e2acce56f6c7",
   "metadata": {},
   "outputs": [
    {
     "name": "stdout",
     "output_type": "stream",
     "text": [
      "l\n"
     ]
    }
   ],
   "source": [
    "# Find the most frequent character.\n",
    "def mostFreqChars(s):\n",
    "    d = {}\n",
    "    for i in s:\n",
    "        d[i] = d.get(i,0)+1\n",
    "    return max(d,key = d.get)\n",
    "print(mostFreqChars(\"heloolll\"))"
   ]
  },
  {
   "cell_type": "code",
   "execution_count": 95,
   "id": "03adcdd4-0e5a-4930-b072-4305acec5e5e",
   "metadata": {},
   "outputs": [
    {
     "name": "stdout",
     "output_type": "stream",
     "text": [
      "['Hey', 'venkat']\n"
     ]
    }
   ],
   "source": [
    "# Implement your own split().\n",
    "def mySplit(s,sep):\n",
    "    result = []\n",
    "    word = ''\n",
    "    for char in s:\n",
    "        if char == sep:\n",
    "            if word:\n",
    "                result.append(word)\n",
    "                word = ''\n",
    "        else:\n",
    "            word += char\n",
    "    if word:\n",
    "        result.append(word)\n",
    "    return result\n",
    "\n",
    "print(mySplit(\"Hey venkat\",\" \"))"
   ]
  },
  {
   "cell_type": "code",
   "execution_count": 97,
   "id": "3223c12e-090d-4add-a8bc-514c759a13ad",
   "metadata": {},
   "outputs": [
    {
     "name": "stdout",
     "output_type": "stream",
     "text": [
      "takneV\n",
      "True\n",
      "4\n",
      "ban\n",
      "a\n",
      "['I', 'am', 'learning', 'Python']\n"
     ]
    }
   ],
   "source": [
    "print(rev(\"Venkat\"))                     # Output: takneV\n",
    "print(isPalindrome(\"madam\"))            # Output: True\n",
    "print(countVowels(\"I am Venkat\"))       # Output: 4\n",
    "print(removeDup(\"banana\"))              # Output: 'ban'\n",
    "print(mostFreqChars(\"banana\"))          # Output: 'a'\n",
    "print(mySplit(\"I am learning Python\",\" \"))  # Output: ['I', 'am', 'learning', 'Python']"
   ]
  },
  {
   "cell_type": "code",
   "execution_count": null,
   "id": "50e4c6db-b195-418a-909f-1d8e7a5527f7",
   "metadata": {},
   "outputs": [],
   "source": []
  }
 ],
 "metadata": {
  "kernelspec": {
   "display_name": "Python 3 (ipykernel)",
   "language": "python",
   "name": "python3"
  },
  "language_info": {
   "codemirror_mode": {
    "name": "ipython",
    "version": 3
   },
   "file_extension": ".py",
   "mimetype": "text/x-python",
   "name": "python",
   "nbconvert_exporter": "python",
   "pygments_lexer": "ipython3",
   "version": "3.13.3"
  }
 },
 "nbformat": 4,
 "nbformat_minor": 5
}
