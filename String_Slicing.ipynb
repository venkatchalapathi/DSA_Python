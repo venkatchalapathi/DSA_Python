{
 "cells": [
  {
   "cell_type": "markdown",
   "id": "c855e654-6a0a-4674-a2bd-d56973af4cd8",
   "metadata": {},
   "source": [
    "# Strings and String slicing"
   ]
  },
  {
   "cell_type": "code",
   "execution_count": null,
   "id": "2bd3cc1d-c037-455a-9f6f-58536170509f",
   "metadata": {},
   "outputs": [],
   "source": []
  }
 ],
 "metadata": {
  "kernelspec": {
   "display_name": "Python 3 (ipykernel)",
   "language": "python",
   "name": "python3"
  },
  "language_info": {
   "codemirror_mode": {
    "name": "ipython",
    "version": 3
   },
   "file_extension": ".py",
   "mimetype": "text/x-python",
   "name": "python",
   "nbconvert_exporter": "python",
   "pygments_lexer": "ipython3",
   "version": "3.13.3"
  }
 },
 "nbformat": 4,
 "nbformat_minor": 5
}
