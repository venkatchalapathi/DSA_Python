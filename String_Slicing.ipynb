{
 "cells": [
  {
   "cell_type": "markdown",
   "id": "c855e654-6a0a-4674-a2bd-d56973af4cd8",
   "metadata": {},
   "source": [
    "# Strings - String slicing"
   ]
  },
  {
   "cell_type": "code",
   "execution_count": 1,
   "id": "2bd3cc1d-c037-455a-9f6f-58536170509f",
   "metadata": {},
   "outputs": [
    {
     "name": "stdout",
     "output_type": "stream",
     "text": [
      "Hai\n"
     ]
    }
   ],
   "source": [
    "# initialising the string value\n",
    "s = 'Hai' # or s = \"hai\"\n",
    "print(s)"
   ]
  },
  {
   "cell_type": "code",
   "execution_count": 2,
   "id": "8f68317d-1d7d-4deb-b0ae-9e8edf84c476",
   "metadata": {},
   "outputs": [
    {
     "name": "stdout",
     "output_type": "stream",
     "text": [
      "hai this os \n",
      "multi line string...\n",
      "this is third line\n"
     ]
    }
   ],
   "source": [
    "# Multi line string...\n",
    "s1 = '''hai this os \n",
    "multi line string...\n",
    "this is third line'''\n",
    "print(s1)\n"
   ]
  },
  {
   "cell_type": "code",
   "execution_count": 3,
   "id": "902003f5-5062-451c-b11c-c916a9041373",
   "metadata": {},
   "outputs": [
    {
     "data": {
      "text/plain": [
       "'P'"
      ]
     },
     "execution_count": 3,
     "metadata": {},
     "output_type": "execute_result"
    }
   ],
   "source": [
    "# String indexing..\n",
    "s = \"Python\"\n",
    "s[0]"
   ]
  },
  {
   "cell_type": "code",
   "execution_count": 5,
   "id": "0bded04e-537a-44ea-9ac5-1cfd7eb5cc6f",
   "metadata": {},
   "outputs": [
    {
     "data": {
      "text/plain": [
       "'n'"
      ]
     },
     "execution_count": 5,
     "metadata": {},
     "output_type": "execute_result"
    }
   ],
   "source": [
    "#Last char of a string.\n",
    "s[-1]"
   ]
  },
  {
   "cell_type": "code",
   "execution_count": 11,
   "id": "826d876a-d57b-4251-b76a-47ef9c025a9e",
   "metadata": {},
   "outputs": [
    {
     "data": {
      "text/plain": [
       "'Pyt'"
      ]
     },
     "execution_count": 11,
     "metadata": {},
     "output_type": "execute_result"
    }
   ],
   "source": [
    "#String Slicing...\n",
    "#Extract parts of strings using s[start:end:step]. step excluded here\n",
    "s[0:3]"
   ]
  },
  {
   "cell_type": "code",
   "execution_count": 12,
   "id": "45e03b74-fc53-44d2-8e4c-809b0e58ee6a",
   "metadata": {},
   "outputs": [
    {
     "data": {
      "text/plain": [
       "'Pyt'"
      ]
     },
     "execution_count": 12,
     "metadata": {},
     "output_type": "execute_result"
    }
   ],
   "source": [
    "s[0:3:1]"
   ]
  },
  {
   "cell_type": "code",
   "execution_count": 13,
   "id": "8ddb56fe-dd28-4afb-b9dd-9275febe07db",
   "metadata": {},
   "outputs": [
    {
     "data": {
      "text/plain": [
       "'Ph'"
      ]
     },
     "execution_count": 13,
     "metadata": {},
     "output_type": "execute_result"
    }
   ],
   "source": [
    "s[0:4:3] # two steps counter"
   ]
  },
  {
   "cell_type": "code",
   "execution_count": null,
   "id": "6034edda-9ba8-4946-8292-15aa4b5d5ad1",
   "metadata": {},
   "outputs": [],
   "source": []
  }
 ],
 "metadata": {
  "kernelspec": {
   "display_name": "Python 3 (ipykernel)",
   "language": "python",
   "name": "python3"
  },
  "language_info": {
   "codemirror_mode": {
    "name": "ipython",
    "version": 3
   },
   "file_extension": ".py",
   "mimetype": "text/x-python",
   "name": "python",
   "nbconvert_exporter": "python",
   "pygments_lexer": "ipython3",
   "version": "3.13.3"
  }
 },
 "nbformat": 4,
 "nbformat_minor": 5
}
