{
 "cells": [
  {
   "cell_type": "markdown",
   "id": "b74b6b27-bcb7-4665-8cc0-9b55e2046e51",
   "metadata": {},
   "source": [
    "# Arrays in python"
   ]
  },
  {
   "cell_type": "markdown",
   "id": "eb320cd1-fce1-43d8-816c-26df45509a99",
   "metadata": {},
   "source": [
    "Arrays are called as Lists in python\n",
    "built in ds to store elements\n",
    "- Heterogenous elements\n",
    "- Mutable\n",
    "- Ordered : Elements retain its order\n",
    "  "
   ]
  },
  {
   "cell_type": "code",
   "execution_count": 2,
   "id": "bbfafcea-a361-4095-b584-29c4ff2180cd",
   "metadata": {},
   "outputs": [],
   "source": [
    "a = [] # defining an array or a list\n",
    "a.append([10,20,30])"
   ]
  },
  {
   "cell_type": "code",
   "execution_count": 3,
   "id": "de123ed1-1b48-4652-a83d-500670ff41a5",
   "metadata": {},
   "outputs": [
    {
     "name": "stdout",
     "output_type": "stream",
     "text": [
      "[[10, 20, 30]]\n"
     ]
    }
   ],
   "source": [
    "print(a)"
   ]
  },
  {
   "cell_type": "code",
   "execution_count": 5,
   "id": "368bfbfb-35c6-4759-896f-cd1201bfb133",
   "metadata": {},
   "outputs": [
    {
     "data": {
      "text/plain": [
       "[10, 20, 30]"
      ]
     },
     "execution_count": 5,
     "metadata": {},
     "output_type": "execute_result"
    }
   ],
   "source": [
    "a = [10,20,30]\n",
    "a"
   ]
  },
  {
   "cell_type": "code",
   "execution_count": 6,
   "id": "d337deed-f922-4dc7-9273-8f7bcdf0af1b",
   "metadata": {},
   "outputs": [
    {
     "data": {
      "text/plain": [
       "[10, 20, 30, 40]"
      ]
     },
     "execution_count": 6,
     "metadata": {},
     "output_type": "execute_result"
    }
   ],
   "source": [
    "a.append(40)\n",
    "a"
   ]
  },
  {
   "cell_type": "code",
   "execution_count": 7,
   "id": "39879a0b-8e3e-4508-96a4-4d0789303357",
   "metadata": {},
   "outputs": [
    {
     "data": {
      "text/plain": [
       "10"
      ]
     },
     "execution_count": 7,
     "metadata": {},
     "output_type": "execute_result"
    }
   ],
   "source": [
    "a[0]"
   ]
  },
  {
   "cell_type": "code",
   "execution_count": 8,
   "id": "c98dcc20-7a82-42a0-bfd9-f3eb79864453",
   "metadata": {},
   "outputs": [
    {
     "data": {
      "text/plain": [
       "40"
      ]
     },
     "execution_count": 8,
     "metadata": {},
     "output_type": "execute_result"
    }
   ],
   "source": [
    "a[-1] # last element"
   ]
  },
  {
   "cell_type": "markdown",
   "id": "c91d0bb8-deaf-4348-9441-c8a77c9476df",
   "metadata": {},
   "source": [
    "List Slicing..."
   ]
  },
  {
   "cell_type": "code",
   "execution_count": 17,
   "id": "8a5cced4-7e6c-4e85-a2ab-b0f93b5b0632",
   "metadata": {},
   "outputs": [
    {
     "data": {
      "text/plain": [
       "[10, 20]"
      ]
     },
     "execution_count": 17,
     "metadata": {},
     "output_type": "execute_result"
    }
   ],
   "source": [
    "a[:2]"
   ]
  },
  {
   "cell_type": "code",
   "execution_count": 20,
   "id": "ba394767-2bb9-4f34-980d-51015b013d32",
   "metadata": {},
   "outputs": [
    {
     "data": {
      "text/plain": [
       "[10, 30]"
      ]
     },
     "execution_count": 20,
     "metadata": {},
     "output_type": "execute_result"
    }
   ],
   "source": [
    "a[::2]"
   ]
  },
  {
   "cell_type": "code",
   "execution_count": 22,
   "id": "f2e7c570-d3ff-46d1-b75b-589db5ec790a",
   "metadata": {},
   "outputs": [
    {
     "data": {
      "text/plain": [
       "[40, 30, 20, 10]"
      ]
     },
     "execution_count": 22,
     "metadata": {},
     "output_type": "execute_result"
    }
   ],
   "source": [
    "a[::-1] # Reverse list"
   ]
  },
  {
   "cell_type": "code",
   "execution_count": 24,
   "id": "0dbdd4dc-3873-42d0-af8e-767ed56a27e9",
   "metadata": {},
   "outputs": [
    {
     "name": "stdout",
     "output_type": "stream",
     "text": [
      "0\n",
      "1\n",
      "2\n",
      "3\n"
     ]
    }
   ],
   "source": [
    "# Loops\n",
    "for i in range(len(a)):\n",
    "    print(i)"
   ]
  },
  {
   "cell_type": "code",
   "execution_count": 29,
   "id": "d1659239-457d-4a25-9ef4-86483a08e800",
   "metadata": {},
   "outputs": [
    {
     "name": "stdout",
     "output_type": "stream",
     "text": [
      "20\n",
      "30\n",
      "40\n"
     ]
    }
   ],
   "source": [
    "for i in range(len(a)):\n",
    "    print(a[i])"
   ]
  },
  {
   "cell_type": "code",
   "execution_count": 33,
   "id": "43482d1c-6b23-4c4a-9d91-c1b37a2a7595",
   "metadata": {},
   "outputs": [
    {
     "name": "stdout",
     "output_type": "stream",
     "text": [
      "10\n",
      "30\n"
     ]
    }
   ],
   "source": [
    "for i in range(0,len(a),2):\n",
    "    print(a[i])"
   ]
  },
  {
   "cell_type": "code",
   "execution_count": 28,
   "id": "ee93416f-9ccb-46de-9bf9-0715da018058",
   "metadata": {},
   "outputs": [
    {
     "name": "stdout",
     "output_type": "stream",
     "text": [
      "10\n",
      "20\n",
      "30\n",
      "40\n"
     ]
    }
   ],
   "source": [
    "for i in a:\n",
    "    print(i)"
   ]
  },
  {
   "cell_type": "code",
   "execution_count": 35,
   "id": "24517948-6900-4415-9715-8b82cb384c87",
   "metadata": {},
   "outputs": [
    {
     "data": {
      "text/plain": [
       "[100, 20, 30, 40]"
      ]
     },
     "execution_count": 35,
     "metadata": {},
     "output_type": "execute_result"
    }
   ],
   "source": [
    "# Modifying the element\n",
    "a[0] = 100\n",
    "a"
   ]
  },
  {
   "cell_type": "code",
   "execution_count": 36,
   "id": "70776711-a9ab-48d5-95a0-da941f6f38a1",
   "metadata": {},
   "outputs": [
    {
     "data": {
      "text/plain": [
       "[100, 200, 30, 40]"
      ]
     },
     "execution_count": 36,
     "metadata": {},
     "output_type": "execute_result"
    }
   ],
   "source": [
    "a[1] = 200\n",
    "a"
   ]
  },
  {
   "cell_type": "code",
   "execution_count": 40,
   "id": "23badfa0-30d1-4de6-9a5d-78b64831e493",
   "metadata": {},
   "outputs": [],
   "source": [
    "a = [10, 20, 30, 40]"
   ]
  },
  {
   "cell_type": "code",
   "execution_count": 41,
   "id": "41b5af9f-1d6d-4b78-bd91-e573899ca57c",
   "metadata": {},
   "outputs": [
    {
     "data": {
      "text/plain": [
       "[10, 20, 30, 40, 50]"
      ]
     },
     "execution_count": 41,
     "metadata": {},
     "output_type": "execute_result"
    }
   ],
   "source": [
    "a.append(50)\n",
    "a"
   ]
  },
  {
   "cell_type": "code",
   "execution_count": 42,
   "id": "f0fdaa56-1cab-4fa5-9501-6b9a6031d0c3",
   "metadata": {},
   "outputs": [
    {
     "data": {
      "text/plain": [
       "[10, 10, 20, 30, 40, 50]"
      ]
     },
     "execution_count": 42,
     "metadata": {},
     "output_type": "execute_result"
    }
   ],
   "source": [
    "a.insert(1,10)\n",
    "a"
   ]
  },
  {
   "cell_type": "code",
   "execution_count": 44,
   "id": "4dfc0faf-146a-4815-8164-076cb3e580f8",
   "metadata": {},
   "outputs": [
    {
     "data": {
      "text/plain": [
       "[10, 10, 20, 30, 40, 50, 60, 70, 80]"
      ]
     },
     "execution_count": 44,
     "metadata": {},
     "output_type": "execute_result"
    }
   ],
   "source": [
    "a.extend([60,70,80])\n",
    "a"
   ]
  },
  {
   "cell_type": "code",
   "execution_count": 45,
   "id": "cedaef74-7136-4d3c-be77-767019294f24",
   "metadata": {},
   "outputs": [],
   "source": [
    "# Removing elements"
   ]
  },
  {
   "cell_type": "code",
   "execution_count": 47,
   "id": "e9d1dd85-4b86-430d-bd3c-762de3197b12",
   "metadata": {},
   "outputs": [
    {
     "data": {
      "text/plain": [
       "[10, 20, 30, 40, 50, 60, 70, 80]"
      ]
     },
     "execution_count": 47,
     "metadata": {},
     "output_type": "execute_result"
    }
   ],
   "source": [
    "a.remove(10) # Remove first occurrence of 10\n",
    "a"
   ]
  },
  {
   "cell_type": "code",
   "execution_count": 48,
   "id": "ffc51b5d-e6c5-42e6-806b-f85523201965",
   "metadata": {},
   "outputs": [
    {
     "data": {
      "text/plain": [
       "[10, 20, 30, 40, 50, 60, 70]"
      ]
     },
     "execution_count": 48,
     "metadata": {},
     "output_type": "execute_result"
    }
   ],
   "source": [
    "a.pop() # Remove last elements\n",
    "a "
   ]
  },
  {
   "cell_type": "code",
   "execution_count": 49,
   "id": "c50a26bb-dfb9-4f0a-9807-bc501721075d",
   "metadata": {},
   "outputs": [
    {
     "data": {
      "text/plain": [
       "[20, 30, 40, 50, 60, 70]"
      ]
     },
     "execution_count": 49,
     "metadata": {},
     "output_type": "execute_result"
    }
   ],
   "source": [
    "a.pop(0) # Remove at 0th position\n",
    "a"
   ]
  },
  {
   "cell_type": "code",
   "execution_count": 50,
   "id": "7320a909-3582-426a-9a4d-79452909acb6",
   "metadata": {},
   "outputs": [
    {
     "data": {
      "text/plain": [
       "[30, 40, 50, 60, 70]"
      ]
     },
     "execution_count": 50,
     "metadata": {},
     "output_type": "execute_result"
    }
   ],
   "source": [
    "# Same operation done using del \n",
    "del a[0]\n",
    "a"
   ]
  },
  {
   "cell_type": "code",
   "execution_count": 52,
   "id": "3731a701-fe6c-45ff-8fe0-d08cc172f0b9",
   "metadata": {},
   "outputs": [],
   "source": [
    "# Searching"
   ]
  },
  {
   "cell_type": "code",
   "execution_count": 53,
   "id": "cc841fdf-71a1-4921-a52b-d32a75cc8987",
   "metadata": {},
   "outputs": [
    {
     "data": {
      "text/plain": [
       "False"
      ]
     },
     "execution_count": 53,
     "metadata": {},
     "output_type": "execute_result"
    }
   ],
   "source": [
    "3 in a"
   ]
  },
  {
   "cell_type": "code",
   "execution_count": 54,
   "id": "621b325b-c774-4034-96a6-a8dcd68724d1",
   "metadata": {},
   "outputs": [
    {
     "data": {
      "text/plain": [
       "True"
      ]
     },
     "execution_count": 54,
     "metadata": {},
     "output_type": "execute_result"
    }
   ],
   "source": [
    "30 in a"
   ]
  },
  {
   "cell_type": "code",
   "execution_count": 56,
   "id": "ba0014ed-4854-47c9-9ecb-36074556ace4",
   "metadata": {},
   "outputs": [
    {
     "data": {
      "text/plain": [
       "1"
      ]
     },
     "execution_count": 56,
     "metadata": {},
     "output_type": "execute_result"
    }
   ],
   "source": [
    "a.index(40) # return the index if found"
   ]
  },
  {
   "cell_type": "code",
   "execution_count": 58,
   "id": "fafcfd53-8c8c-45d9-b69c-553765a18d78",
   "metadata": {},
   "outputs": [
    {
     "data": {
      "text/plain": [
       "1"
      ]
     },
     "execution_count": 58,
     "metadata": {},
     "output_type": "execute_result"
    }
   ],
   "source": [
    "a.count(40) # count how many times 40 found"
   ]
  },
  {
   "cell_type": "code",
   "execution_count": 62,
   "id": "6793d64b-b0c9-42e7-a868-9cee949174be",
   "metadata": {},
   "outputs": [],
   "source": [
    "# sorting"
   ]
  },
  {
   "cell_type": "code",
   "execution_count": 72,
   "id": "5dee2adc-43d7-41de-b659-98d118c34560",
   "metadata": {},
   "outputs": [],
   "source": [
    "a = [4,23,2,45,6,7,89]"
   ]
  },
  {
   "cell_type": "code",
   "execution_count": 64,
   "id": "f508299a-a8e6-4a8a-9093-d89bedd4117b",
   "metadata": {},
   "outputs": [
    {
     "data": {
      "text/plain": [
       "[2, 4, 6, 7, 23, 45, 89]"
      ]
     },
     "execution_count": 64,
     "metadata": {},
     "output_type": "execute_result"
    }
   ],
   "source": [
    "a.sort()\n",
    "a"
   ]
  },
  {
   "cell_type": "code",
   "execution_count": 68,
   "id": "cd2a4e1c-c018-4c9a-93cf-f5a1c4792b52",
   "metadata": {},
   "outputs": [
    {
     "data": {
      "text/plain": [
       "[89, 45, 23, 7, 6, 4, 2]"
      ]
     },
     "execution_count": 68,
     "metadata": {},
     "output_type": "execute_result"
    }
   ],
   "source": [
    "a.sort(reverse = True)\n",
    "a"
   ]
  },
  {
   "cell_type": "code",
   "execution_count": 75,
   "id": "e0374dc9-890f-4171-b560-83070c846de6",
   "metadata": {},
   "outputs": [
    {
     "data": {
      "text/plain": [
       "[89, 7, 6, 45, 2, 23, 4]"
      ]
     },
     "execution_count": 75,
     "metadata": {},
     "output_type": "execute_result"
    }
   ],
   "source": [
    "a.reverse() # reverse the list not sort elements\n",
    "a"
   ]
  },
  {
   "cell_type": "markdown",
   "id": "eaa33cd7-797d-42d1-9dfa-18de2ae58224",
   "metadata": {},
   "source": [
    "### List Comprehensions"
   ]
  },
  {
   "cell_type": "code",
   "execution_count": 80,
   "id": "64b70443-1d12-4ae4-b88a-0f3ad5f997b7",
   "metadata": {},
   "outputs": [],
   "source": [
    "# A Pythonic way to create lists:\n",
    "\n",
    "squares = [x**x for x in range(1,5)]"
   ]
  },
  {
   "cell_type": "code",
   "execution_count": 81,
   "id": "c0937f8b-3fdb-4a11-88d2-987b48cb158d",
   "metadata": {},
   "outputs": [
    {
     "data": {
      "text/plain": [
       "[1, 4, 27, 256]"
      ]
     },
     "execution_count": 81,
     "metadata": {},
     "output_type": "execute_result"
    }
   ],
   "source": [
    "squares"
   ]
  },
  {
   "cell_type": "code",
   "execution_count": 82,
   "id": "e35808da-59c0-4eff-839e-fd67221dc307",
   "metadata": {},
   "outputs": [
    {
     "data": {
      "text/plain": [
       "[0, 2, 4, 6, 8, 10, 12, 14, 16, 18]"
      ]
     },
     "execution_count": 82,
     "metadata": {},
     "output_type": "execute_result"
    }
   ],
   "source": [
    "even = [x for x in range(20) if x%2==0]\n",
    "even"
   ]
  },
  {
   "cell_type": "code",
   "execution_count": 83,
   "id": "82800b1d-b5f9-45c7-a6d2-fe1786c1680a",
   "metadata": {},
   "outputs": [
    {
     "data": {
      "text/plain": [
       "[[1, 2, 3]]"
      ]
     },
     "execution_count": 83,
     "metadata": {},
     "output_type": "execute_result"
    }
   ],
   "source": [
    "# Nested lists\n",
    "nested = []\n",
    "nested.append([1,2,3])\n",
    "nested"
   ]
  },
  {
   "cell_type": "code",
   "execution_count": 84,
   "id": "4982e919-75f0-40dd-b569-955f603d3e55",
   "metadata": {},
   "outputs": [
    {
     "data": {
      "text/plain": [
       "[[1, 2, 3], [1, 2]]"
      ]
     },
     "execution_count": 84,
     "metadata": {},
     "output_type": "execute_result"
    }
   ],
   "source": [
    "nested.append([1,2])\n",
    "nested"
   ]
  },
  {
   "cell_type": "markdown",
   "id": "bcaa14ef-a2a7-4248-ad50-aa152611fa7c",
   "metadata": {},
   "source": [
    "# Advanced Concepts"
   ]
  },
  {
   "cell_type": "code",
   "execution_count": 85,
   "id": "dc38475f-cf0d-4780-8a93-2310c9b71212",
   "metadata": {},
   "outputs": [],
   "source": [
    "# 1. enumerate()\n",
    "# You often need both the index and the value in a loop.\n",
    "\n"
   ]
  },
  {
   "cell_type": "code",
   "execution_count": 86,
   "id": "1f27823c-a32f-49d0-a611-4a35530e59ca",
   "metadata": {},
   "outputs": [],
   "source": [
    "# for index,value in enumerate(list):\n",
    "#     something...\n",
    "\n"
   ]
  },
  {
   "cell_type": "code",
   "execution_count": 88,
   "id": "812654ec-eb61-4984-97f2-b119334fb5a2",
   "metadata": {},
   "outputs": [
    {
     "name": "stdout",
     "output_type": "stream",
     "text": [
      "0 0\n",
      "1 2\n",
      "2 4\n",
      "3 6\n",
      "4 8\n",
      "5 10\n",
      "6 12\n",
      "7 14\n",
      "8 16\n",
      "9 18\n"
     ]
    }
   ],
   "source": [
    "for index,value in enumerate(even):\n",
    "    print(index,value)"
   ]
  },
  {
   "cell_type": "code",
   "execution_count": 89,
   "id": "1b6f84e8-0b83-483d-b9eb-71334f198d21",
   "metadata": {},
   "outputs": [],
   "source": [
    "# 2.zip() — Combine Two Lists Element-Wise\n",
    "# Combines multiple iterables into tuples, element by element.\n",
    "# Great for pairing items."
   ]
  },
  {
   "cell_type": "code",
   "execution_count": 90,
   "id": "ad8dee24-a0f2-400b-9aa9-1442f62a7639",
   "metadata": {},
   "outputs": [
    {
     "data": {
      "text/plain": [
       "[('Venkat', 60), ('Anjum', 90)]"
      ]
     },
     "execution_count": 90,
     "metadata": {},
     "output_type": "execute_result"
    }
   ],
   "source": [
    "names = [\"Venkat\",\"Anjum\"]\n",
    "score = [60,90]\n",
    "combined = list(zip(names,score))\n",
    "combined"
   ]
  },
  {
   "cell_type": "code",
   "execution_count": 95,
   "id": "4b2847ac-8ce3-41c5-8c8c-55fb4eb24360",
   "metadata": {},
   "outputs": [
    {
     "name": "stdout",
     "output_type": "stream",
     "text": [
      "0 ('Venkat', 60)\n",
      "1 ('Anjum', 90)\n"
     ]
    }
   ],
   "source": [
    "for i,v in enumerate(combined):\n",
    "    print(i,v)"
   ]
  },
  {
   "cell_type": "code",
   "execution_count": 1,
   "id": "30dd0d48-1a54-4aa6-9a37-d3e8300bd16a",
   "metadata": {},
   "outputs": [],
   "source": [
    "# 5. Common Array Problems (Real-World Practice)\n",
    "\n",
    "# Let me know which one you'd like to solve next:\n",
    "\n",
    "# ✅ Reverse an array\n",
    "# ✅ Check if an array is a palindrome\n",
    "# 🔄 Rotate an array\n",
    "# 🔄 Remove duplicates\n",
    "# 🔄 Find max and second max\n",
    "# 🔄 Merge two sorted arrays\n",
    "# 🔄 Frequency of elements"
   ]
  },
  {
   "cell_type": "code",
   "execution_count": 3,
   "id": "b7a41402-f449-467f-968b-008077fd4b5b",
   "metadata": {},
   "outputs": [
    {
     "data": {
      "text/plain": [
       "[40, 30, 20, 10]"
      ]
     },
     "execution_count": 3,
     "metadata": {},
     "output_type": "execute_result"
    }
   ],
   "source": [
    "a = [10,20,30,40]\n",
    "a[::-1] # reverse of an array"
   ]
  },
  {
   "cell_type": "code",
   "execution_count": 6,
   "id": "bbb73f68-8198-4729-85a0-7441192c018d",
   "metadata": {},
   "outputs": [
    {
     "name": "stdout",
     "output_type": "stream",
     "text": [
      "YES\n"
     ]
    }
   ],
   "source": [
    "a = [10,20,10] # Check if an array is a palindrome\n",
    "\n",
    "if(a == a[::-1]):\n",
    "    print(\"YES\")\n",
    "else:\n",
    "    print(\"NO\")"
   ]
  },
  {
   "cell_type": "code",
   "execution_count": 23,
   "id": "554fa400-a55f-4e7f-ad40-39659e58346a",
   "metadata": {},
   "outputs": [
    {
     "data": {
      "text/plain": [
       "[5, 6, 7]"
      ]
     },
     "execution_count": 23,
     "metadata": {},
     "output_type": "execute_result"
    }
   ],
   "source": [
    "# Rotate an array\n",
    "v = [1,2,3,4,5,6,7]\n",
    "v[-3:]"
   ]
  },
  {
   "cell_type": "code",
   "execution_count": 24,
   "id": "d615190e-b820-4515-b5f2-a9290aa45f31",
   "metadata": {},
   "outputs": [
    {
     "data": {
      "text/plain": [
       "7"
      ]
     },
     "execution_count": 24,
     "metadata": {},
     "output_type": "execute_result"
    }
   ],
   "source": [
    "len(v)"
   ]
  },
  {
   "cell_type": "code",
   "execution_count": 28,
   "id": "b1a3271d-6279-430f-87a1-d28ad2532cef",
   "metadata": {},
   "outputs": [],
   "source": [
    "\n",
    "a = v[-4:]\n",
    "b = v[:len(v)-4]\n",
    "a.extend(b)\n"
   ]
  },
  {
   "cell_type": "code",
   "execution_count": 29,
   "id": "c99fc55e-6175-4e3f-8a23-909ce43a7308",
   "metadata": {},
   "outputs": [
    {
     "data": {
      "text/plain": [
       "[4, 5, 6, 7, 1, 2, 3]"
      ]
     },
     "execution_count": 29,
     "metadata": {},
     "output_type": "execute_result"
    }
   ],
   "source": [
    "a"
   ]
  },
  {
   "cell_type": "code",
   "execution_count": 30,
   "id": "b64b85ff-c18f-4010-883a-d789e30b6184",
   "metadata": {},
   "outputs": [
    {
     "data": {
      "text/plain": [
       "7"
      ]
     },
     "execution_count": 30,
     "metadata": {},
     "output_type": "execute_result"
    }
   ],
   "source": [
    "max(a)"
   ]
  },
  {
   "cell_type": "code",
   "execution_count": 31,
   "id": "546ed1b4-f528-4a44-9c64-36abdde3f51f",
   "metadata": {},
   "outputs": [
    {
     "data": {
      "text/plain": [
       "1"
      ]
     },
     "execution_count": 31,
     "metadata": {},
     "output_type": "execute_result"
    }
   ],
   "source": [
    "min(a)"
   ]
  },
  {
   "cell_type": "code",
   "execution_count": 35,
   "id": "45be31dc-f74f-41a3-989d-2a37e0ca8e73",
   "metadata": {},
   "outputs": [
    {
     "data": {
      "text/plain": [
       "7"
      ]
     },
     "execution_count": 35,
     "metadata": {},
     "output_type": "execute_result"
    }
   ],
   "source": [
    "max(a)"
   ]
  },
  {
   "cell_type": "code",
   "execution_count": 39,
   "id": "604d894b-40e1-44f6-806e-d34a94f1b228",
   "metadata": {},
   "outputs": [],
   "source": [
    "a = [1,2,3,2,3,1,5,6]\n",
    "a = list(set(a))"
   ]
  },
  {
   "cell_type": "code",
   "execution_count": 40,
   "id": "9a84d7f1-1e95-4883-995c-fca600b64fbb",
   "metadata": {},
   "outputs": [
    {
     "data": {
      "text/plain": [
       "[1, 2, 3, 5, 6]"
      ]
     },
     "execution_count": 40,
     "metadata": {},
     "output_type": "execute_result"
    }
   ],
   "source": [
    "a"
   ]
  },
  {
   "cell_type": "code",
   "execution_count": 41,
   "id": "9d658649-a5fe-4115-8cac-68cbb83f5253",
   "metadata": {},
   "outputs": [
    {
     "name": "stdout",
     "output_type": "stream",
     "text": [
      "[1, 2, 3, 5, 6]\n"
     ]
    }
   ],
   "source": [
    "a = [1, 2, 3, 2, 3, 1, 5, 6]\n",
    "unique = []\n",
    "\n",
    "for num in a:\n",
    "    if num not in unique:\n",
    "        unique.append(num)\n",
    "\n",
    "print(unique) "
   ]
  },
  {
   "cell_type": "code",
   "execution_count": null,
   "id": "d92db44e-2508-4ee2-8eca-98f3661b37e7",
   "metadata": {},
   "outputs": [],
   "source": []
  }
 ],
 "metadata": {
  "kernelspec": {
   "display_name": "Python 3 (ipykernel)",
   "language": "python",
   "name": "python3"
  },
  "language_info": {
   "codemirror_mode": {
    "name": "ipython",
    "version": 3
   },
   "file_extension": ".py",
   "mimetype": "text/x-python",
   "name": "python",
   "nbconvert_exporter": "python",
   "pygments_lexer": "ipython3",
   "version": "3.13.3"
  }
 },
 "nbformat": 4,
 "nbformat_minor": 5
}
